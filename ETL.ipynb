{
 "cells": [
  {
   "cell_type": "code",
   "execution_count": 116,
   "metadata": {},
   "outputs": [
    {
     "name": "stderr",
     "output_type": "stream",
     "text": [
      "[nltk_data] Downloading package vader_lexicon to\n",
      "[nltk_data]     C:\\Users\\MSI\\AppData\\Roaming\\nltk_data...\n",
      "[nltk_data]   Package vader_lexicon is already up-to-date!\n"
     ]
    },
    {
     "data": {
      "text/plain": [
       "True"
      ]
     },
     "execution_count": 116,
     "metadata": {},
     "output_type": "execute_result"
    }
   ],
   "source": [
    "import pandas as pd\n",
    "import numpy as np\n",
    "import matplotlib.pyplot as plt\n",
    "import seaborn as sns\n",
    "from plotly import graph_objects as go\n",
    "import json\n",
    "import re\n",
    "import nltk\n",
    "from nltk.sentiment.vader import SentimentIntensityAnalyzer\n",
    "import pyarrow.parquet as pq\n",
    "nltk.download(\"vader_lexicon\")\n",
    "\n"
   ]
  },
  {
   "cell_type": "code",
   "execution_count": 66,
   "metadata": {},
   "outputs": [],
   "source": [
    "with open(r\"C:\\Users\\MSI\\Documents\\Proyectos\\Datasets\\Steam_Data_Games\\australian_user_reviews.json\",'r', encoding='utf-8') as review:\n",
    "    lines_review = review.readlines()\n",
    "list_review = [eval(line.strip()) for line in lines_review]\n",
    "data_users_review = pd.DataFrame(list_review).drop(columns=['user_url'])"
   ]
  },
  {
   "cell_type": "code",
   "execution_count": 107,
   "metadata": {},
   "outputs": [
    {
     "data": {
      "text/html": [
       "<div>\n",
       "<style scoped>\n",
       "    .dataframe tbody tr th:only-of-type {\n",
       "        vertical-align: middle;\n",
       "    }\n",
       "\n",
       "    .dataframe tbody tr th {\n",
       "        vertical-align: top;\n",
       "    }\n",
       "\n",
       "    .dataframe thead th {\n",
       "        text-align: right;\n",
       "    }\n",
       "</style>\n",
       "<table border=\"1\" class=\"dataframe\">\n",
       "  <thead>\n",
       "    <tr style=\"text-align: right;\">\n",
       "      <th></th>\n",
       "      <th>user_id</th>\n",
       "      <th>reviews</th>\n",
       "    </tr>\n",
       "  </thead>\n",
       "  <tbody>\n",
       "    <tr>\n",
       "      <th>0</th>\n",
       "      <td>76561197970982479</td>\n",
       "      <td>{'funny': '', 'posted': 'Posted November 5, 20...</td>\n",
       "    </tr>\n",
       "    <tr>\n",
       "      <th>1</th>\n",
       "      <td>76561197970982479</td>\n",
       "      <td>{'funny': '', 'posted': 'Posted July 15, 2011....</td>\n",
       "    </tr>\n",
       "    <tr>\n",
       "      <th>2</th>\n",
       "      <td>76561197970982479</td>\n",
       "      <td>{'funny': '', 'posted': 'Posted April 21, 2011...</td>\n",
       "    </tr>\n",
       "    <tr>\n",
       "      <th>3</th>\n",
       "      <td>js41637</td>\n",
       "      <td>{'funny': '', 'posted': 'Posted June 24, 2014....</td>\n",
       "    </tr>\n",
       "    <tr>\n",
       "      <th>4</th>\n",
       "      <td>js41637</td>\n",
       "      <td>{'funny': '', 'posted': 'Posted September 8, 2...</td>\n",
       "    </tr>\n",
       "    <tr>\n",
       "      <th>...</th>\n",
       "      <td>...</td>\n",
       "      <td>...</td>\n",
       "    </tr>\n",
       "    <tr>\n",
       "      <th>59300</th>\n",
       "      <td>76561198312638244</td>\n",
       "      <td>{'funny': '', 'posted': 'Posted July 10.', 'la...</td>\n",
       "    </tr>\n",
       "    <tr>\n",
       "      <th>59301</th>\n",
       "      <td>76561198312638244</td>\n",
       "      <td>{'funny': '', 'posted': 'Posted July 8.', 'las...</td>\n",
       "    </tr>\n",
       "    <tr>\n",
       "      <th>59302</th>\n",
       "      <td>LydiaMorley</td>\n",
       "      <td>{'funny': '1 person found this review funny', ...</td>\n",
       "    </tr>\n",
       "    <tr>\n",
       "      <th>59303</th>\n",
       "      <td>LydiaMorley</td>\n",
       "      <td>{'funny': '', 'posted': 'Posted July 20.', 'la...</td>\n",
       "    </tr>\n",
       "    <tr>\n",
       "      <th>59304</th>\n",
       "      <td>LydiaMorley</td>\n",
       "      <td>{'funny': '', 'posted': 'Posted July 2.', 'las...</td>\n",
       "    </tr>\n",
       "  </tbody>\n",
       "</table>\n",
       "<p>59305 rows × 2 columns</p>\n",
       "</div>"
      ],
      "text/plain": [
       "                 user_id                                            reviews\n",
       "0      76561197970982479  {'funny': '', 'posted': 'Posted November 5, 20...\n",
       "1      76561197970982479  {'funny': '', 'posted': 'Posted July 15, 2011....\n",
       "2      76561197970982479  {'funny': '', 'posted': 'Posted April 21, 2011...\n",
       "3                js41637  {'funny': '', 'posted': 'Posted June 24, 2014....\n",
       "4                js41637  {'funny': '', 'posted': 'Posted September 8, 2...\n",
       "...                  ...                                                ...\n",
       "59300  76561198312638244  {'funny': '', 'posted': 'Posted July 10.', 'la...\n",
       "59301  76561198312638244  {'funny': '', 'posted': 'Posted July 8.', 'las...\n",
       "59302        LydiaMorley  {'funny': '1 person found this review funny', ...\n",
       "59303        LydiaMorley  {'funny': '', 'posted': 'Posted July 20.', 'la...\n",
       "59304        LydiaMorley  {'funny': '', 'posted': 'Posted July 2.', 'las...\n",
       "\n",
       "[59305 rows x 2 columns]"
      ]
     },
     "execution_count": 107,
     "metadata": {},
     "output_type": "execute_result"
    }
   ],
   "source": [
    "data_users_review.info()"
   ]
  },
  {
   "cell_type": "code",
   "execution_count": 68,
   "metadata": {},
   "outputs": [],
   "source": [
    "data_users_review = data_users_review.explode('reviews')"
   ]
  },
  {
   "cell_type": "code",
   "execution_count": 69,
   "metadata": {},
   "outputs": [
    {
     "name": "stdout",
     "output_type": "stream",
     "text": [
      "<class 'pandas.core.frame.DataFrame'>\n",
      "Index: 59333 entries, 0 to 25798\n",
      "Data columns (total 2 columns):\n",
      " #   Column   Non-Null Count  Dtype \n",
      "---  ------   --------------  ----- \n",
      " 0   user_id  59333 non-null  object\n",
      " 1   reviews  59305 non-null  object\n",
      "dtypes: object(2)\n",
      "memory usage: 1.4+ MB\n"
     ]
    }
   ],
   "source": [
    "data_users_review.info()"
   ]
  },
  {
   "cell_type": "code",
   "execution_count": 70,
   "metadata": {},
   "outputs": [],
   "source": [
    "data_users_review.dropna(inplace=True)"
   ]
  },
  {
   "cell_type": "code",
   "execution_count": 114,
   "metadata": {},
   "outputs": [
    {
     "data": {
      "text/html": [
       "<div>\n",
       "<style scoped>\n",
       "    .dataframe tbody tr th:only-of-type {\n",
       "        vertical-align: middle;\n",
       "    }\n",
       "\n",
       "    .dataframe tbody tr th {\n",
       "        vertical-align: top;\n",
       "    }\n",
       "\n",
       "    .dataframe thead th {\n",
       "        text-align: right;\n",
       "    }\n",
       "</style>\n",
       "<table border=\"1\" class=\"dataframe\">\n",
       "  <thead>\n",
       "    <tr style=\"text-align: right;\">\n",
       "      <th></th>\n",
       "      <th>user_id</th>\n",
       "      <th>reviews</th>\n",
       "    </tr>\n",
       "  </thead>\n",
       "  <tbody>\n",
       "    <tr>\n",
       "      <th>0</th>\n",
       "      <td>76561197970982479</td>\n",
       "      <td>{'funny': '', 'posted': 'Posted November 5, 20...</td>\n",
       "    </tr>\n",
       "    <tr>\n",
       "      <th>1</th>\n",
       "      <td>76561197970982479</td>\n",
       "      <td>{'funny': '', 'posted': 'Posted July 15, 2011....</td>\n",
       "    </tr>\n",
       "    <tr>\n",
       "      <th>2</th>\n",
       "      <td>76561197970982479</td>\n",
       "      <td>{'funny': '', 'posted': 'Posted April 21, 2011...</td>\n",
       "    </tr>\n",
       "    <tr>\n",
       "      <th>3</th>\n",
       "      <td>js41637</td>\n",
       "      <td>{'funny': '', 'posted': 'Posted June 24, 2014....</td>\n",
       "    </tr>\n",
       "    <tr>\n",
       "      <th>4</th>\n",
       "      <td>js41637</td>\n",
       "      <td>{'funny': '', 'posted': 'Posted September 8, 2...</td>\n",
       "    </tr>\n",
       "    <tr>\n",
       "      <th>...</th>\n",
       "      <td>...</td>\n",
       "      <td>...</td>\n",
       "    </tr>\n",
       "    <tr>\n",
       "      <th>59300</th>\n",
       "      <td>76561198312638244</td>\n",
       "      <td>{'funny': '', 'posted': 'Posted July 10.', 'la...</td>\n",
       "    </tr>\n",
       "    <tr>\n",
       "      <th>59301</th>\n",
       "      <td>76561198312638244</td>\n",
       "      <td>{'funny': '', 'posted': 'Posted July 8.', 'las...</td>\n",
       "    </tr>\n",
       "    <tr>\n",
       "      <th>59302</th>\n",
       "      <td>LydiaMorley</td>\n",
       "      <td>{'funny': '1 person found this review funny', ...</td>\n",
       "    </tr>\n",
       "    <tr>\n",
       "      <th>59303</th>\n",
       "      <td>LydiaMorley</td>\n",
       "      <td>{'funny': '', 'posted': 'Posted July 20.', 'la...</td>\n",
       "    </tr>\n",
       "    <tr>\n",
       "      <th>59304</th>\n",
       "      <td>LydiaMorley</td>\n",
       "      <td>{'funny': '', 'posted': 'Posted July 2.', 'las...</td>\n",
       "    </tr>\n",
       "  </tbody>\n",
       "</table>\n",
       "<p>59305 rows × 2 columns</p>\n",
       "</div>"
      ],
      "text/plain": [
       "                 user_id                                            reviews\n",
       "0      76561197970982479  {'funny': '', 'posted': 'Posted November 5, 20...\n",
       "1      76561197970982479  {'funny': '', 'posted': 'Posted July 15, 2011....\n",
       "2      76561197970982479  {'funny': '', 'posted': 'Posted April 21, 2011...\n",
       "3                js41637  {'funny': '', 'posted': 'Posted June 24, 2014....\n",
       "4                js41637  {'funny': '', 'posted': 'Posted September 8, 2...\n",
       "...                  ...                                                ...\n",
       "59300  76561198312638244  {'funny': '', 'posted': 'Posted July 10.', 'la...\n",
       "59301  76561198312638244  {'funny': '', 'posted': 'Posted July 8.', 'las...\n",
       "59302        LydiaMorley  {'funny': '1 person found this review funny', ...\n",
       "59303        LydiaMorley  {'funny': '', 'posted': 'Posted July 20.', 'la...\n",
       "59304        LydiaMorley  {'funny': '', 'posted': 'Posted July 2.', 'las...\n",
       "\n",
       "[59305 rows x 2 columns]"
      ]
     },
     "execution_count": 114,
     "metadata": {},
     "output_type": "execute_result"
    }
   ],
   "source": [
    "data_users_review"
   ]
  },
  {
   "cell_type": "code",
   "execution_count": 72,
   "metadata": {},
   "outputs": [],
   "source": [
    "data_users_review.reset_index(drop=True, inplace=True)"
   ]
  },
  {
   "cell_type": "code",
   "execution_count": 73,
   "metadata": {},
   "outputs": [
    {
     "data": {
      "text/html": [
       "<div>\n",
       "<style scoped>\n",
       "    .dataframe tbody tr th:only-of-type {\n",
       "        vertical-align: middle;\n",
       "    }\n",
       "\n",
       "    .dataframe tbody tr th {\n",
       "        vertical-align: top;\n",
       "    }\n",
       "\n",
       "    .dataframe thead th {\n",
       "        text-align: right;\n",
       "    }\n",
       "</style>\n",
       "<table border=\"1\" class=\"dataframe\">\n",
       "  <thead>\n",
       "    <tr style=\"text-align: right;\">\n",
       "      <th></th>\n",
       "      <th>item_id</th>\n",
       "      <th>review</th>\n",
       "      <th>recommend</th>\n",
       "    </tr>\n",
       "  </thead>\n",
       "  <tbody>\n",
       "    <tr>\n",
       "      <th>0</th>\n",
       "      <td>1250</td>\n",
       "      <td>Simple yet with great replayability. In my opi...</td>\n",
       "      <td>True</td>\n",
       "    </tr>\n",
       "    <tr>\n",
       "      <th>1</th>\n",
       "      <td>22200</td>\n",
       "      <td>It's unique and worth a playthrough.</td>\n",
       "      <td>True</td>\n",
       "    </tr>\n",
       "    <tr>\n",
       "      <th>2</th>\n",
       "      <td>43110</td>\n",
       "      <td>Great atmosphere. The gunplay can be a bit chu...</td>\n",
       "      <td>True</td>\n",
       "    </tr>\n",
       "    <tr>\n",
       "      <th>3</th>\n",
       "      <td>251610</td>\n",
       "      <td>I know what you think when you see this title ...</td>\n",
       "      <td>True</td>\n",
       "    </tr>\n",
       "    <tr>\n",
       "      <th>4</th>\n",
       "      <td>227300</td>\n",
       "      <td>For a simple (it's actually not all that simpl...</td>\n",
       "      <td>True</td>\n",
       "    </tr>\n",
       "    <tr>\n",
       "      <th>...</th>\n",
       "      <td>...</td>\n",
       "      <td>...</td>\n",
       "      <td>...</td>\n",
       "    </tr>\n",
       "    <tr>\n",
       "      <th>59300</th>\n",
       "      <td>70</td>\n",
       "      <td>a must have classic from steam definitely wort...</td>\n",
       "      <td>True</td>\n",
       "    </tr>\n",
       "    <tr>\n",
       "      <th>59301</th>\n",
       "      <td>362890</td>\n",
       "      <td>this game is a perfect remake of the original ...</td>\n",
       "      <td>True</td>\n",
       "    </tr>\n",
       "    <tr>\n",
       "      <th>59302</th>\n",
       "      <td>273110</td>\n",
       "      <td>had so much fun plaing this and collecting res...</td>\n",
       "      <td>True</td>\n",
       "    </tr>\n",
       "    <tr>\n",
       "      <th>59303</th>\n",
       "      <td>730</td>\n",
       "      <td>:D</td>\n",
       "      <td>True</td>\n",
       "    </tr>\n",
       "    <tr>\n",
       "      <th>59304</th>\n",
       "      <td>440</td>\n",
       "      <td>so much fun :D</td>\n",
       "      <td>True</td>\n",
       "    </tr>\n",
       "  </tbody>\n",
       "</table>\n",
       "<p>59305 rows × 3 columns</p>\n",
       "</div>"
      ],
      "text/plain": [
       "      item_id                                             review  recommend\n",
       "0        1250  Simple yet with great replayability. In my opi...       True\n",
       "1       22200               It's unique and worth a playthrough.       True\n",
       "2       43110  Great atmosphere. The gunplay can be a bit chu...       True\n",
       "3      251610  I know what you think when you see this title ...       True\n",
       "4      227300  For a simple (it's actually not all that simpl...       True\n",
       "...       ...                                                ...        ...\n",
       "59300      70  a must have classic from steam definitely wort...       True\n",
       "59301  362890  this game is a perfect remake of the original ...       True\n",
       "59302  273110  had so much fun plaing this and collecting res...       True\n",
       "59303     730                                                 :D       True\n",
       "59304     440                                     so much fun :D       True\n",
       "\n",
       "[59305 rows x 3 columns]"
      ]
     },
     "execution_count": 73,
     "metadata": {},
     "output_type": "execute_result"
    }
   ],
   "source": [
    "claves_deseadas = ['item_id', 'review','recommend']\n",
    "\n",
    "data_reviews = pd.DataFrame(list(map(lambda d: {clave: d[clave] for clave in claves_deseadas}, data_users_review.reviews)))\n",
    "data_reviews"
   ]
  },
  {
   "cell_type": "code",
   "execution_count": 74,
   "metadata": {},
   "outputs": [],
   "source": [
    "data_all_reviews = pd.merge(data_users_review['user_id'], data_reviews,left_index=True,right_index=True, how='inner')"
   ]
  },
  {
   "cell_type": "code",
   "execution_count": 75,
   "metadata": {},
   "outputs": [],
   "source": [
    "def clean_text(text):\n",
    "  text = re.sub(r'^RT[\\s]+', '', text)\n",
    "  text = re.sub(r'https?:\\/\\/.*[\\r\\n]*', '', text)\n",
    "  text = re.sub(r'#', '', text)\n",
    "  text = re.sub(r'@[A-Za-z0-9]+', '', text)\n",
    "  return text\n",
    "\n",
    "\n",
    "def sentimientos(texto):\n",
    "    analizador_sentimientos = SentimentIntensityAnalyzer()\n",
    "    \n",
    "    if pd.isnull(texto) or texto == \"\":\n",
    "        return 1  # Valor neutral si el texto está vacío o es NaN\n",
    "    elif isinstance(texto, str):\n",
    "        # Realizamos análisis de sentimiento\n",
    "        sentiment = analizador_sentimientos.polarity_scores(texto)\n",
    "        compound_score = sentiment[\"compound\"]\n",
    "        if compound_score > 0:\n",
    "            return 2 # Positivo\n",
    "        elif compound_score < -0:\n",
    "            return 0 # Negativo\n",
    "        else:\n",
    "            return 1 # Neutral\n",
    "    else:\n",
    "        return 1  # Valor neutral para datos que no son de tipo cadena"
   ]
  },
  {
   "cell_type": "code",
   "execution_count": 117,
   "metadata": {},
   "outputs": [
    {
     "data": {
      "text/html": [
       "<div>\n",
       "<style scoped>\n",
       "    .dataframe tbody tr th:only-of-type {\n",
       "        vertical-align: middle;\n",
       "    }\n",
       "\n",
       "    .dataframe tbody tr th {\n",
       "        vertical-align: top;\n",
       "    }\n",
       "\n",
       "    .dataframe thead th {\n",
       "        text-align: right;\n",
       "    }\n",
       "</style>\n",
       "<table border=\"1\" class=\"dataframe\">\n",
       "  <thead>\n",
       "    <tr style=\"text-align: right;\">\n",
       "      <th></th>\n",
       "      <th>user_id</th>\n",
       "      <th>item_id</th>\n",
       "      <th>recommend</th>\n",
       "      <th>sentiment</th>\n",
       "    </tr>\n",
       "  </thead>\n",
       "  <tbody>\n",
       "    <tr>\n",
       "      <th>0</th>\n",
       "      <td>76561197970982479</td>\n",
       "      <td>1250</td>\n",
       "      <td>True</td>\n",
       "      <td>2</td>\n",
       "    </tr>\n",
       "    <tr>\n",
       "      <th>1</th>\n",
       "      <td>76561197970982479</td>\n",
       "      <td>22200</td>\n",
       "      <td>True</td>\n",
       "      <td>2</td>\n",
       "    </tr>\n",
       "    <tr>\n",
       "      <th>2</th>\n",
       "      <td>76561197970982479</td>\n",
       "      <td>43110</td>\n",
       "      <td>True</td>\n",
       "      <td>2</td>\n",
       "    </tr>\n",
       "    <tr>\n",
       "      <th>3</th>\n",
       "      <td>js41637</td>\n",
       "      <td>251610</td>\n",
       "      <td>True</td>\n",
       "      <td>2</td>\n",
       "    </tr>\n",
       "    <tr>\n",
       "      <th>4</th>\n",
       "      <td>js41637</td>\n",
       "      <td>227300</td>\n",
       "      <td>True</td>\n",
       "      <td>2</td>\n",
       "    </tr>\n",
       "    <tr>\n",
       "      <th>...</th>\n",
       "      <td>...</td>\n",
       "      <td>...</td>\n",
       "      <td>...</td>\n",
       "      <td>...</td>\n",
       "    </tr>\n",
       "    <tr>\n",
       "      <th>59300</th>\n",
       "      <td>76561198312638244</td>\n",
       "      <td>70</td>\n",
       "      <td>True</td>\n",
       "      <td>2</td>\n",
       "    </tr>\n",
       "    <tr>\n",
       "      <th>59301</th>\n",
       "      <td>76561198312638244</td>\n",
       "      <td>362890</td>\n",
       "      <td>True</td>\n",
       "      <td>2</td>\n",
       "    </tr>\n",
       "    <tr>\n",
       "      <th>59302</th>\n",
       "      <td>LydiaMorley</td>\n",
       "      <td>273110</td>\n",
       "      <td>True</td>\n",
       "      <td>2</td>\n",
       "    </tr>\n",
       "    <tr>\n",
       "      <th>59303</th>\n",
       "      <td>LydiaMorley</td>\n",
       "      <td>730</td>\n",
       "      <td>True</td>\n",
       "      <td>2</td>\n",
       "    </tr>\n",
       "    <tr>\n",
       "      <th>59304</th>\n",
       "      <td>LydiaMorley</td>\n",
       "      <td>440</td>\n",
       "      <td>True</td>\n",
       "      <td>2</td>\n",
       "    </tr>\n",
       "  </tbody>\n",
       "</table>\n",
       "<p>59305 rows × 4 columns</p>\n",
       "</div>"
      ],
      "text/plain": [
       "                 user_id item_id  recommend  sentiment\n",
       "0      76561197970982479    1250       True          2\n",
       "1      76561197970982479   22200       True          2\n",
       "2      76561197970982479   43110       True          2\n",
       "3                js41637  251610       True          2\n",
       "4                js41637  227300       True          2\n",
       "...                  ...     ...        ...        ...\n",
       "59300  76561198312638244      70       True          2\n",
       "59301  76561198312638244  362890       True          2\n",
       "59302        LydiaMorley  273110       True          2\n",
       "59303        LydiaMorley     730       True          2\n",
       "59304        LydiaMorley     440       True          2\n",
       "\n",
       "[59305 rows x 4 columns]"
      ]
     },
     "execution_count": 117,
     "metadata": {},
     "output_type": "execute_result"
    }
   ],
   "source": [
    "data_all_reviews"
   ]
  },
  {
   "cell_type": "code",
   "execution_count": 77,
   "metadata": {},
   "outputs": [],
   "source": [
    "data_all_reviews.review = data_all_reviews.review.apply(clean_text)\n",
    "data_all_reviews['sentiment'] = data_all_reviews.review.apply(sentimientos)\n",
    "data_all_reviews.drop(columns=['review'], inplace=True)\n"
   ]
  },
  {
   "cell_type": "code",
   "execution_count": 118,
   "metadata": {},
   "outputs": [],
   "source": [
    "data_all_reviews.to_parquet('data_reviews.parquet')"
   ]
  },
  {
   "cell_type": "code",
   "execution_count": 79,
   "metadata": {},
   "outputs": [],
   "source": [
    "with open(r\"C:\\Users\\MSI\\Documents\\Proyectos\\Datasets\\Steam_Data_Games\\australian_users_items.json\", 'r', encoding= 'utf-8') as f:\n",
    "    lines_items = f.readlines()\n",
    "    \n",
    "list_items = [eval(line.strip()) for line in lines_items]\n",
    "data_users_items = pd.DataFrame(list_items).drop(columns=['user_url','steam_id','items_count'])"
   ]
  },
  {
   "cell_type": "code",
   "execution_count": 81,
   "metadata": {},
   "outputs": [],
   "source": [
    "desanidado = []\n",
    "for index, row in data_users_items.iterrows():\n",
    "    user_id = row['user_id']\n",
    "    for df_items_dict in row['items']:\n",
    "        df_items_dict.pop('playtime_2weeks')\n",
    "        df_items_dict['user_id'] = user_id\n",
    "        desanidado.append(df_items_dict)\n",
    "\n",
    "data_items = pd.DataFrame(desanidado)"
   ]
  },
  {
   "cell_type": "code",
   "execution_count": 120,
   "metadata": {},
   "outputs": [],
   "source": [
    "data_items"
   ]
  },
  {
   "cell_type": "code",
   "execution_count": 82,
   "metadata": {},
   "outputs": [],
   "source": [
    "with open(r\"C:\\Users\\MSI\\Documents\\Proyectos\\Datasets\\Steam_Data_Games\\output_steam_games.json\", 'r', encoding='utf-8') as games:\n",
    "    data = games.readlines()\n",
    "datos = [json.loads(line.strip()) for line in data]\n",
    "steam_games =pd.DataFrame(datos)"
   ]
  },
  {
   "cell_type": "code",
   "execution_count": 83,
   "metadata": {},
   "outputs": [
    {
     "name": "stdout",
     "output_type": "stream",
     "text": [
      "<class 'pandas.core.frame.DataFrame'>\n",
      "RangeIndex: 120445 entries, 0 to 120444\n",
      "Data columns (total 13 columns):\n",
      " #   Column        Non-Null Count  Dtype \n",
      "---  ------        --------------  ----- \n",
      " 0   publisher     24083 non-null  object\n",
      " 1   genres        28852 non-null  object\n",
      " 2   app_name      32133 non-null  object\n",
      " 3   title         30085 non-null  object\n",
      " 4   url           32135 non-null  object\n",
      " 5   release_date  30068 non-null  object\n",
      " 6   tags          31972 non-null  object\n",
      " 7   reviews_url   32133 non-null  object\n",
      " 8   specs         31465 non-null  object\n",
      " 9   price         30758 non-null  object\n",
      " 10  early_access  32135 non-null  object\n",
      " 11  id            32133 non-null  object\n",
      " 12  developer     28836 non-null  object\n",
      "dtypes: object(13)\n",
      "memory usage: 11.9+ MB\n"
     ]
    }
   ],
   "source": [
    "steam_games.info()"
   ]
  },
  {
   "cell_type": "code",
   "execution_count": 84,
   "metadata": {},
   "outputs": [],
   "source": [
    "steam_games.drop(columns=['url','reviews_url','publisher','early_access'], inplace=True)"
   ]
  },
  {
   "cell_type": "code",
   "execution_count": 85,
   "metadata": {},
   "outputs": [],
   "source": [
    "steam_games.dropna(how='all', inplace=True)"
   ]
  },
  {
   "cell_type": "code",
   "execution_count": 86,
   "metadata": {},
   "outputs": [],
   "source": [
    "steam_games.reset_index(drop=True, inplace=True)"
   ]
  },
  {
   "cell_type": "code",
   "execution_count": 87,
   "metadata": {},
   "outputs": [
    {
     "data": {
      "text/plain": [
       "price\n",
       "4.99           4278\n",
       "9.99           3902\n",
       "2.99           3429\n",
       "0.99           2607\n",
       "1.99           2541\n",
       "               ... \n",
       "74.76             1\n",
       "32.99             1\n",
       "14.95             1\n",
       "26.99             1\n",
       "Free to Use       1\n",
       "Name: count, Length: 162, dtype: int64"
      ]
     },
     "execution_count": 87,
     "metadata": {},
     "output_type": "execute_result"
    }
   ],
   "source": [
    "steam_games.price.value_counts()"
   ]
  },
  {
   "cell_type": "code",
   "execution_count": 88,
   "metadata": {},
   "outputs": [],
   "source": [
    "def replace_prices(row):\n",
    "\n",
    "    try:\n",
    "        return float(row)\n",
    "    except:\n",
    "        price_str = row.lower().strip()\n",
    "        if ('free' in price_str) or ('demo' in  price_str):\n",
    "            return 0\n",
    "        else:\n",
    "            return None\n",
    "    "
   ]
  },
  {
   "cell_type": "code",
   "execution_count": 89,
   "metadata": {},
   "outputs": [],
   "source": [
    "steam_games.price = steam_games.price.apply(replace_prices)"
   ]
  },
  {
   "cell_type": "code",
   "execution_count": 90,
   "metadata": {},
   "outputs": [],
   "source": [
    "steam_games = steam_games.loc[(steam_games[['title','id']].drop_duplicates().dropna().index),:]"
   ]
  },
  {
   "cell_type": "code",
   "execution_count": 91,
   "metadata": {},
   "outputs": [],
   "source": [
    "def release_modif(row):\n",
    "    try:\n",
    "        return pd.to_datetime(row,format='%Y-%m-%d')\n",
    "    except:\n",
    "        return None"
   ]
  },
  {
   "cell_type": "code",
   "execution_count": 92,
   "metadata": {},
   "outputs": [],
   "source": [
    "steam_games.release_date = steam_games.release_date.map(release_modif)"
   ]
  },
  {
   "cell_type": "code",
   "execution_count": 93,
   "metadata": {},
   "outputs": [
    {
     "name": "stdout",
     "output_type": "stream",
     "text": [
      "<class 'pandas.core.frame.DataFrame'>\n",
      "Index: 30083 entries, 0 to 32133\n",
      "Data columns (total 9 columns):\n",
      " #   Column        Non-Null Count  Dtype         \n",
      "---  ------        --------------  -----         \n",
      " 0   genres        28849 non-null  object        \n",
      " 1   app_name      30083 non-null  object        \n",
      " 2   title         30083 non-null  object        \n",
      " 3   release_date  29780 non-null  datetime64[ns]\n",
      " 4   tags          29922 non-null  object        \n",
      " 5   specs         29414 non-null  object        \n",
      " 6   price         28815 non-null  float64       \n",
      " 7   id            30083 non-null  object        \n",
      " 8   developer     28834 non-null  object        \n",
      "dtypes: datetime64[ns](1), float64(1), object(7)\n",
      "memory usage: 2.3+ MB\n"
     ]
    }
   ],
   "source": [
    "steam_games.info()"
   ]
  },
  {
   "cell_type": "code",
   "execution_count": 121,
   "metadata": {},
   "outputs": [
    {
     "data": {
      "text/html": [
       "<div>\n",
       "<style scoped>\n",
       "    .dataframe tbody tr th:only-of-type {\n",
       "        vertical-align: middle;\n",
       "    }\n",
       "\n",
       "    .dataframe tbody tr th {\n",
       "        vertical-align: top;\n",
       "    }\n",
       "\n",
       "    .dataframe thead th {\n",
       "        text-align: right;\n",
       "    }\n",
       "</style>\n",
       "<table border=\"1\" class=\"dataframe\">\n",
       "  <thead>\n",
       "    <tr style=\"text-align: right;\">\n",
       "      <th></th>\n",
       "      <th>genres</th>\n",
       "      <th>app_name</th>\n",
       "      <th>title</th>\n",
       "      <th>release_date</th>\n",
       "      <th>tags</th>\n",
       "      <th>specs</th>\n",
       "      <th>price</th>\n",
       "      <th>id</th>\n",
       "      <th>developer</th>\n",
       "    </tr>\n",
       "  </thead>\n",
       "  <tbody>\n",
       "    <tr>\n",
       "      <th>0</th>\n",
       "      <td>[action, casual, indie, simulation, strategy]</td>\n",
       "      <td>Lost Summoner Kitty</td>\n",
       "      <td>Lost Summoner Kitty</td>\n",
       "      <td>2018-01-04</td>\n",
       "      <td>[strategy, action, indie, casual, simulation]</td>\n",
       "      <td>[single-player]</td>\n",
       "      <td>4.99</td>\n",
       "      <td>761140</td>\n",
       "      <td>Kotoshiro</td>\n",
       "    </tr>\n",
       "    <tr>\n",
       "      <th>1</th>\n",
       "      <td>[free to play, indie, rpg, strategy]</td>\n",
       "      <td>Ironbound</td>\n",
       "      <td>Ironbound</td>\n",
       "      <td>2018-01-04</td>\n",
       "      <td>[free to play, strategy, indie, rpg, card game...</td>\n",
       "      <td>[single-player, multi-player, online multi-pla...</td>\n",
       "      <td>0.00</td>\n",
       "      <td>643980</td>\n",
       "      <td>Secret Level SRL</td>\n",
       "    </tr>\n",
       "    <tr>\n",
       "      <th>2</th>\n",
       "      <td>[casual, free to play, indie, simulation, sports]</td>\n",
       "      <td>Real Pool 3D - Poolians</td>\n",
       "      <td>Real Pool 3D - Poolians</td>\n",
       "      <td>2017-07-24</td>\n",
       "      <td>[free to play, simulation, sports, casual, ind...</td>\n",
       "      <td>[single-player, multi-player, online multi-pla...</td>\n",
       "      <td>0.00</td>\n",
       "      <td>670290</td>\n",
       "      <td>Poolians.com</td>\n",
       "    </tr>\n",
       "    <tr>\n",
       "      <th>3</th>\n",
       "      <td>[action, adventure, casual]</td>\n",
       "      <td>弹炸人2222</td>\n",
       "      <td>弹炸人2222</td>\n",
       "      <td>2017-12-07</td>\n",
       "      <td>[action, adventure, casual]</td>\n",
       "      <td>[single-player]</td>\n",
       "      <td>0.99</td>\n",
       "      <td>767400</td>\n",
       "      <td>彼岸领域</td>\n",
       "    </tr>\n",
       "    <tr>\n",
       "      <th>5</th>\n",
       "      <td>[action, adventure, simulation]</td>\n",
       "      <td>Battle Royale Trainer</td>\n",
       "      <td>Battle Royale Trainer</td>\n",
       "      <td>2018-01-04</td>\n",
       "      <td>[action, adventure, simulation, fps, shooter, ...</td>\n",
       "      <td>[single-player, steam achievements]</td>\n",
       "      <td>3.99</td>\n",
       "      <td>772540</td>\n",
       "      <td>Trickjump Games Ltd</td>\n",
       "    </tr>\n",
       "    <tr>\n",
       "      <th>...</th>\n",
       "      <td>...</td>\n",
       "      <td>...</td>\n",
       "      <td>...</td>\n",
       "      <td>...</td>\n",
       "      <td>...</td>\n",
       "      <td>...</td>\n",
       "      <td>...</td>\n",
       "      <td>...</td>\n",
       "      <td>...</td>\n",
       "    </tr>\n",
       "    <tr>\n",
       "      <th>32129</th>\n",
       "      <td>[action, adventure, casual, indie]</td>\n",
       "      <td>Kebab it Up!</td>\n",
       "      <td>Kebab it Up!</td>\n",
       "      <td>2018-01-04</td>\n",
       "      <td>[action, indie, casual, violent, adventure]</td>\n",
       "      <td>[single-player, steam achievements, steam cloud]</td>\n",
       "      <td>1.99</td>\n",
       "      <td>745400</td>\n",
       "      <td>Bidoniera Games</td>\n",
       "    </tr>\n",
       "    <tr>\n",
       "      <th>32130</th>\n",
       "      <td>[casual, indie, simulation, strategy]</td>\n",
       "      <td>Colony On Mars</td>\n",
       "      <td>Colony On Mars</td>\n",
       "      <td>2018-01-04</td>\n",
       "      <td>[strategy, indie, casual, simulation]</td>\n",
       "      <td>[single-player, steam achievements]</td>\n",
       "      <td>1.99</td>\n",
       "      <td>773640</td>\n",
       "      <td>Nikita \"Ghost_RUS\"</td>\n",
       "    </tr>\n",
       "    <tr>\n",
       "      <th>32131</th>\n",
       "      <td>[casual, indie, strategy]</td>\n",
       "      <td>LOGistICAL: South Africa</td>\n",
       "      <td>LOGistICAL: South Africa</td>\n",
       "      <td>2018-01-04</td>\n",
       "      <td>[strategy, indie, casual]</td>\n",
       "      <td>[single-player, steam achievements, steam clou...</td>\n",
       "      <td>4.99</td>\n",
       "      <td>733530</td>\n",
       "      <td>Sacada</td>\n",
       "    </tr>\n",
       "    <tr>\n",
       "      <th>32132</th>\n",
       "      <td>[indie, racing, simulation]</td>\n",
       "      <td>Russian Roads</td>\n",
       "      <td>Russian Roads</td>\n",
       "      <td>2018-01-04</td>\n",
       "      <td>[indie, simulation, racing]</td>\n",
       "      <td>[single-player, steam achievements, steam trad...</td>\n",
       "      <td>1.99</td>\n",
       "      <td>610660</td>\n",
       "      <td>Laush Dmitriy Sergeevich</td>\n",
       "    </tr>\n",
       "    <tr>\n",
       "      <th>32133</th>\n",
       "      <td>[casual, indie]</td>\n",
       "      <td>EXIT 2 - Directions</td>\n",
       "      <td>EXIT 2 - Directions</td>\n",
       "      <td>2017-09-02</td>\n",
       "      <td>[indie, casual, puzzle, singleplayer, atmosphe...</td>\n",
       "      <td>[single-player, steam achievements, steam cloud]</td>\n",
       "      <td>4.99</td>\n",
       "      <td>658870</td>\n",
       "      <td>xropi,stev3ns</td>\n",
       "    </tr>\n",
       "  </tbody>\n",
       "</table>\n",
       "<p>30083 rows × 9 columns</p>\n",
       "</div>"
      ],
      "text/plain": [
       "                                                  genres  \\\n",
       "0          [action, casual, indie, simulation, strategy]   \n",
       "1                   [free to play, indie, rpg, strategy]   \n",
       "2      [casual, free to play, indie, simulation, sports]   \n",
       "3                            [action, adventure, casual]   \n",
       "5                        [action, adventure, simulation]   \n",
       "...                                                  ...   \n",
       "32129                 [action, adventure, casual, indie]   \n",
       "32130              [casual, indie, simulation, strategy]   \n",
       "32131                          [casual, indie, strategy]   \n",
       "32132                        [indie, racing, simulation]   \n",
       "32133                                    [casual, indie]   \n",
       "\n",
       "                       app_name                     title release_date  \\\n",
       "0           Lost Summoner Kitty       Lost Summoner Kitty   2018-01-04   \n",
       "1                     Ironbound                 Ironbound   2018-01-04   \n",
       "2       Real Pool 3D - Poolians   Real Pool 3D - Poolians   2017-07-24   \n",
       "3                       弹炸人2222                   弹炸人2222   2017-12-07   \n",
       "5         Battle Royale Trainer     Battle Royale Trainer   2018-01-04   \n",
       "...                         ...                       ...          ...   \n",
       "32129              Kebab it Up!              Kebab it Up!   2018-01-04   \n",
       "32130            Colony On Mars            Colony On Mars   2018-01-04   \n",
       "32131  LOGistICAL: South Africa  LOGistICAL: South Africa   2018-01-04   \n",
       "32132             Russian Roads             Russian Roads   2018-01-04   \n",
       "32133       EXIT 2 - Directions       EXIT 2 - Directions   2017-09-02   \n",
       "\n",
       "                                                    tags  \\\n",
       "0          [strategy, action, indie, casual, simulation]   \n",
       "1      [free to play, strategy, indie, rpg, card game...   \n",
       "2      [free to play, simulation, sports, casual, ind...   \n",
       "3                            [action, adventure, casual]   \n",
       "5      [action, adventure, simulation, fps, shooter, ...   \n",
       "...                                                  ...   \n",
       "32129        [action, indie, casual, violent, adventure]   \n",
       "32130              [strategy, indie, casual, simulation]   \n",
       "32131                          [strategy, indie, casual]   \n",
       "32132                        [indie, simulation, racing]   \n",
       "32133  [indie, casual, puzzle, singleplayer, atmosphe...   \n",
       "\n",
       "                                                   specs  price      id  \\\n",
       "0                                        [single-player]   4.99  761140   \n",
       "1      [single-player, multi-player, online multi-pla...   0.00  643980   \n",
       "2      [single-player, multi-player, online multi-pla...   0.00  670290   \n",
       "3                                        [single-player]   0.99  767400   \n",
       "5                    [single-player, steam achievements]   3.99  772540   \n",
       "...                                                  ...    ...     ...   \n",
       "32129   [single-player, steam achievements, steam cloud]   1.99  745400   \n",
       "32130                [single-player, steam achievements]   1.99  773640   \n",
       "32131  [single-player, steam achievements, steam clou...   4.99  733530   \n",
       "32132  [single-player, steam achievements, steam trad...   1.99  610660   \n",
       "32133   [single-player, steam achievements, steam cloud]   4.99  658870   \n",
       "\n",
       "                      developer  \n",
       "0                     Kotoshiro  \n",
       "1              Secret Level SRL  \n",
       "2                  Poolians.com  \n",
       "3                          彼岸领域  \n",
       "5           Trickjump Games Ltd  \n",
       "...                         ...  \n",
       "32129           Bidoniera Games  \n",
       "32130        Nikita \"Ghost_RUS\"  \n",
       "32131                    Sacada  \n",
       "32132  Laush Dmitriy Sergeevich  \n",
       "32133             xropi,stev3ns  \n",
       "\n",
       "[30083 rows x 9 columns]"
      ]
     },
     "execution_count": 121,
     "metadata": {},
     "output_type": "execute_result"
    }
   ],
   "source": [
    "steam_games"
   ]
  },
  {
   "cell_type": "code",
   "execution_count": 95,
   "metadata": {},
   "outputs": [],
   "source": [
    "def filter_lists(column_value):\n",
    "    if isinstance(column_value, list):\n",
    "        \n",
    "        column_value_low = []\n",
    "        for indx in column_value:\n",
    "            if indx in column_value_low:\n",
    "                continue\n",
    "            else:\n",
    "                column_value_low.append(indx.lower())\n",
    "        return column_value_low\n",
    "    else:\n",
    "        return []"
   ]
  },
  {
   "cell_type": "code",
   "execution_count": 96,
   "metadata": {},
   "outputs": [],
   "source": [
    "steam_games['genres'] = steam_games['genres'].apply(filter_lists).dropna()\n",
    "steam_games['tags'] = steam_games['tags'].apply(filter_lists).dropna()\n",
    "steam_games['specs'] = steam_games['specs'].apply(filter_lists).dropna()\n",
    "\n"
   ]
  },
  {
   "cell_type": "code",
   "execution_count": 123,
   "metadata": {},
   "outputs": [],
   "source": [
    "steam_games"
   ]
  },
  {
   "cell_type": "markdown",
   "metadata": {},
   "source": [
    "def developer( desarrollador : str ): Cantidad de items y porcentaje de contenido Free por año según empresa desarrolladora. Ejemplo de retorno:"
   ]
  },
  {
   "cell_type": "code",
   "execution_count": 98,
   "metadata": {},
   "outputs": [],
   "source": [
    "def porcentaje_juegos_gratis(precios):\n",
    "    juegos_gratis = precios[precios == 0].count()\n",
    "    juegos_totales = len(precios)\n",
    "    porcentaje = (juegos_gratis / juegos_totales) * 100 if juegos_totales > 0 else 0\n",
    "    return f'{porcentaje:.1f}%'\n"
   ]
  },
  {
   "cell_type": "markdown",
   "metadata": {},
   "source": [
    "def userdata( User_id : str ): Debe devolver cantidad de dinero gastado por el usuario, el porcentaje de recomendación en base a reviews.recommend y cantidad de items."
   ]
  },
  {
   "cell_type": "code",
   "execution_count": 99,
   "metadata": {},
   "outputs": [],
   "source": [
    "def userdata(user_id):\n",
    "    \n",
    "    user_opins = pd.merge(data_all_reviews.drop(columns='sentiment'),steam_games.drop(columns=['genres','app_name','title','release_date','tags','specs','developer']), how='left', left_on='item_id',right_on='id').query('user_id == @user_id')\n",
    "\n",
    "    user_paid = user_opins.price.sum()\n",
    "    user_recom = (len(user_opins[user_opins.recommend==True]) / len(user_opins))*100\n",
    "    user_items = len(user_opins)\n",
    "\n",
    "    return {\"Usuario\": user_id,\"Dinero Gastado\": user_paid,\"% de recomendación: \": user_recom, \"Cantidad de Items\":user_items}"
   ]
  },
  {
   "cell_type": "markdown",
   "metadata": {},
   "source": [
    "def UserForGenre( genero : str ): Debe devolver el usuario que acumula más horas jugadas para el género dado y una lista de la acumulación de horas jugadas por año de lanzamiento."
   ]
  },
  {
   "cell_type": "code",
   "execution_count": 100,
   "metadata": {},
   "outputs": [],
   "source": [
    "def UserForGenre(genre):\n",
    "    genre = genre.lower()\n",
    "    User_gen = pd.merge(data_items, steam_games[steam_games.genres.map(lambda genr: genr == [genre])].loc[:,('id','release_date')], left_on='item_id', right_on='id')\n",
    "\n",
    "    user = User_gen[['user_id','playtime_forever']].groupby('user_id')['playtime_forever'].sum().sort_values(ascending=False).head(1).index[0]\n",
    "    registro = User_gen.query('user_id==@user')[['release_date','playtime_forever']].groupby(User_gen.query('user_id==@user')['release_date'].dt.year)['playtime_forever'].sum()\n",
    "\n",
    "    return user,registro"
   ]
  },
  {
   "cell_type": "markdown",
   "metadata": {},
   "source": [
    "def best_developer_year( año : int ): Devuelve el top 3 de desarrolladores con juegos MÁS recomendados por usuarios para el año dado. (reviews.recommend = True y comentarios positivos)"
   ]
  },
  {
   "cell_type": "code",
   "execution_count": 101,
   "metadata": {},
   "outputs": [],
   "source": [
    "def best_developer_year(year):\n",
    "    dev_gen = pd.merge(data_all_reviews, steam_games.loc[:,('id','release_date','developer')], left_on='item_id', right_on='id')[['recommend','sentiment','release_date','developer']].query('release_date.dt.year == @year and recommend==True and recommend==True and sentiment==2')['developer'].value_counts().head(3).to_dict()\n",
    "\n",
    "    return dev_gen\n"
   ]
  },
  {
   "cell_type": "markdown",
   "metadata": {},
   "source": [
    "def developer_reviews_analysis( desarrolladora : str ): Según el desarrollador, se devuelve un diccionario con el nombre del desarrollador como llave y una lista con la cantidad total de registros de reseñas de usuarios que se encuentren categorizados con un análisis de sentimiento como valor positivo o negativo."
   ]
  },
  {
   "cell_type": "code",
   "execution_count": 102,
   "metadata": {},
   "outputs": [],
   "source": [
    "def developer_reviews_analysis(developer):\n",
    "    developer = developer.lower()\n",
    "    dev_dc = pd.merge(data_all_reviews, steam_games.loc[:,('id','release_date','developer')], left_on='item_id', right_on='id')[['sentiment','developer']].query('developer == @developer').groupby('developer').value_counts().to_dict()\n",
    "\n",
    "    dev_neg = dev_dc.get((developer,0))\n",
    "    dev_pos = dev_dc.get((developer,2))\n",
    "\n",
    "    return {developer:[dev_neg,dev_pos]}\n"
   ]
  }
 ],
 "metadata": {
  "kernelspec": {
   "display_name": "Python 3",
   "language": "python",
   "name": "python3"
  },
  "language_info": {
   "codemirror_mode": {
    "name": "ipython",
    "version": 3
   },
   "file_extension": ".py",
   "mimetype": "text/x-python",
   "name": "python",
   "nbconvert_exporter": "python",
   "pygments_lexer": "ipython3",
   "version": "3.11.7"
  }
 },
 "nbformat": 4,
 "nbformat_minor": 2
}
